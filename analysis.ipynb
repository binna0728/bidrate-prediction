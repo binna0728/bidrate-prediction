{
 "cells": [
  {
   "cell_type": "markdown",
   "metadata": {},
   "source": [
    "# 사정율 예측 모델 분석\n",
    "\n",
    "100번이동, 10번이동, 3번이동 데이터를 사용한 선형회귀 분석"
   ]
  },
  {
   "cell_type": "markdown",
   "metadata": {},
   "source": [
    "## 1. 라이브러리 임포트"
   ]
  },
  {
   "cell_type": "code",
   "execution_count": null,
   "metadata": {},
   "outputs": [],
   "source": [
    "import pandas as pd\n",
    "import numpy as np\n",
    "import matplotlib.pyplot as plt\n",
    "import seaborn as sns\n",
    "from sklearn.model_selection import train_test_split\n",
    "from sklearn.linear_model import LinearRegression\n",
    "from sklearn.preprocessing import StandardScaler\n",
    "from sklearn.metrics import r2_score, mean_squared_error, mean_absolute_error\n",
    "import warnings\n",
    "warnings.filterwarnings('ignore')\n",
    "\n",
    "# 한글 폰트 설정\n",
    "plt.rcParams['font.family'] = 'Malgun Gothic'\n",
    "plt.rcParams['axes.unicode_minus'] = False\n",
    "\n",
    "print(\"라이브러리 임포트 완료!\")"
   ]
  },
  {
   "cell_type": "markdown",
   "metadata": {},
   "source": [
    "## 2. 데이터 로드 및 탐색"
   ]
  },
  {
   "cell_type": "code",
   "execution_count": null,
   "metadata": {},
   "outputs": [],
   "source": [
    "# 데이터 로드\n",
    "df = pd.read_excel('강원도및경기일부.xlsx')\n",
    "print(f\"데이터 크기: {df.shape}\")\n",
    "print(f\"\\n컬럼 목록:\")\n",
    "for i, col in enumerate(df.columns):\n",
    "    print(f\"{i+1:2d}. {col}\")"
   ]
  },
  {
   "cell_type": "code",
   "execution_count": null,
   "metadata": {},
   "outputs": [],
   "source": [
    "# 데이터 미리보기\n",
    "df.head(10)"
   ]
  },
  {
   "cell_type": "code",
   "execution_count": null,
   "metadata": {},
   "outputs": [],
   "source": [
    "# 기본 통계\n",
    "df.describe()"
   ]
  },
  {
   "cell_type": "code",
   "execution_count": null,
   "metadata": {},
   "outputs": [],
   "source": [
    "# 결측치 확인\n",
    "missing = df.isnull().sum()\n",
    "missing_df = pd.DataFrame({\n",
    "    '컬럼': missing.index,\n",
    "    '결측치': missing.values,\n",
    "    '비율(%)': (missing.values / len(df)) * 100\n",
    "})\n",
    "missing_df[missing_df['결측치'] > 0]"
   ]
  },
  {
   "cell_type": "markdown",
   "metadata": {},
   "source": [
    "## 3. 데이터 전처리"
   ]
  },
  {
   "cell_type": "code",
   "execution_count": null,
   "metadata": {},
   "outputs": [],
   "source": [
    "# 필요한 컬럼 선택\n",
    "# 독립변수: 100번이동(4번째), 10번이동(5번째), 3번이동(6번째)\n",
    "# 종속변수: 사정율(2번째)\n",
    "\n",
    "X_columns = df.columns[[3, 4, 5]]  # 100번이동, 10번이동, 3번이동\n",
    "y_column = df.columns[1]  # 사정율\n",
    "\n",
    "print(f\"독립변수: {list(X_columns)}\")\n",
    "print(f\"종속변수: {y_column}\")\n",
    "\n",
    "# 데이터 선택 및 결측치 제거\n",
    "data = df[list(X_columns) + [y_column]].dropna()\n",
    "print(f\"\\n결측치 제거 후 데이터 크기: {data.shape}\")"
   ]
  },
  {
   "cell_type": "markdown",
   "metadata": {},
   "source": [
    "## 4. 데이터 시각화"
   ]
  },
  {
   "cell_type": "code",
   "execution_count": null,
   "metadata": {},
   "outputs": [],
   "source": [
    "# 상관관계 히트맵\n",
    "plt.figure(figsize=(8, 6))\n",
    "correlation_matrix = data.corr()\n",
    "sns.heatmap(correlation_matrix, annot=True, cmap='coolwarm', center=0, \n",
    "            square=True, linewidths=1, cbar_kws={\"shrink\": 0.8})\n",
    "plt.title('변수 간 상관관계')\n",
    "plt.tight_layout()\n",
    "plt.show()\n",
    "\n",
    "print(\"상관계수:\")\n",
    "print(correlation_matrix)"
   ]
  },
  {
   "cell_type": "code",
   "execution_count": null,
   "metadata": {},
   "outputs": [],
   "source": [
    "# 분포 시각화\n",
    "fig, axes = plt.subplots(2, 2, figsize=(12, 10))\n",
    "\n",
    "# 각 변수의 히스토그램\n",
    "for idx, col in enumerate(data.columns):\n",
    "    ax = axes[idx // 2, idx % 2]\n",
    "    ax.hist(data[col], bins=30, edgecolor='black', alpha=0.7)\n",
    "    ax.set_title(f'{col} 분포')\n",
    "    ax.set_xlabel(col)\n",
    "    ax.set_ylabel('빈도')\n",
    "    ax.grid(True, alpha=0.3)\n",
    "\n",
    "plt.tight_layout()\n",
    "plt.show()"
   ]
  },
  {
   "cell_type": "code",
   "execution_count": null,
   "metadata": {},
   "outputs": [],
   "source": [
    "# 산점도 매트릭스\n",
    "pd.plotting.scatter_matrix(data, figsize=(12, 12), diagonal='hist', alpha=0.5)\n",
    "plt.suptitle('변수 간 산점도 매트릭스', y=0.99)\n",
    "plt.tight_layout()\n",
    "plt.show()"
   ]
  },
  {
   "cell_type": "markdown",
   "metadata": {},
   "source": [
    "## 5. 모델 학습"
   ]
  },
  {
   "cell_type": "code",
   "execution_count": null,
   "metadata": {},
   "outputs": [],
   "source": [
    "# 데이터 분할\n",
    "X = data[list(X_columns)]\n",
    "y = data[y_column]\n",
    "\n",
    "X_train, X_test, y_train, y_test = train_test_split(\n",
    "    X, y, test_size=0.2, random_state=42\n",
    ")\n",
    "\n",
    "print(f\"학습 데이터: {X_train.shape}\")\n",
    "print(f\"테스트 데이터: {X_test.shape}\")"
   ]
  },
  {
   "cell_type": "code",
   "execution_count": null,
   "metadata": {},
   "outputs": [],
   "source": [
    "# 데이터 스케일링\n",
    "scaler = StandardScaler()\n",
    "X_train_scaled = scaler.fit_transform(X_train)\n",
    "X_test_scaled = scaler.transform(X_test)\n",
    "\n",
    "print(\"스케일링 완료\")\n",
    "print(f\"평균: {scaler.mean_}\")\n",
    "print(f\"표준편차: {scaler.scale_}\")"
   ]
  },
  {
   "cell_type": "code",
   "execution_count": null,
   "metadata": {},
   "outputs": [],
   "source": [
    "# 선형회귀 모델 학습\n",
    "model = LinearRegression()\n",
    "model.fit(X_train_scaled, y_train)\n",
    "\n",
    "print(\"모델 학습 완료!\")\n",
    "print(f\"\\n절편: {model.intercept_:.6f}\")\n",
    "print(f\"계수:\")\n",
    "for feature, coef in zip(X_columns, model.coef_):\n",
    "    print(f\"  {feature}: {coef:.6f}\")"
   ]
  },
  {
   "cell_type": "markdown",
   "metadata": {},
   "source": [
    "## 6. 모델 평가"
   ]
  },
  {
   "cell_type": "code",
   "execution_count": null,
   "metadata": {},
   "outputs": [],
   "source": [
    "# 예측\n",
    "y_pred_train = model.predict(X_train_scaled)\n",
    "y_pred_test = model.predict(X_test_scaled)\n",
    "\n",
    "# 평가 지표\n",
    "train_r2 = r2_score(y_train, y_pred_train)\n",
    "test_r2 = r2_score(y_test, y_pred_test)\n",
    "test_rmse = np.sqrt(mean_squared_error(y_test, y_pred_test))\n",
    "test_mae = mean_absolute_error(y_test, y_pred_test)\n",
    "\n",
    "print(\"=\"*50)\n",
    "print(\"모델 평가 결과\")\n",
    "print(\"=\"*50)\n",
    "print(f\"학습 R² Score: {train_r2:.4f}\")\n",
    "print(f\"테스트 R² Score: {test_r2:.4f}\")\n",
    "print(f\"RMSE: {test_rmse:.4f}\")\n",
    "print(f\"MAE: {test_mae:.4f}\")"
   ]
  },
  {
   "cell_type": "code",
   "execution_count": null,
   "metadata": {},
   "outputs": [],
   "source": [
    "# 예측 결과 시각화\n",
    "fig, axes = plt.subplots(1, 3, figsize=(15, 5))\n",
    "\n",
    "# 1. 실제 vs 예측\n",
    "axes[0].scatter(y_test, y_pred_test, alpha=0.5)\n",
    "axes[0].plot([y_test.min(), y_test.max()], [y_test.min(), y_test.max()], 'r--', lw=2)\n",
    "axes[0].set_xlabel('실제값')\n",
    "axes[0].set_ylabel('예측값')\n",
    "axes[0].set_title(f'실제 vs 예측 (R²={test_r2:.3f})')\n",
    "axes[0].grid(True, alpha=0.3)\n",
    "\n",
    "# 2. 잔차 플롯\n",
    "residuals = y_test - y_pred_test\n",
    "axes[1].scatter(y_pred_test, residuals, alpha=0.5)\n",
    "axes[1].axhline(y=0, color='r', linestyle='--')\n",
    "axes[1].set_xlabel('예측값')\n",
    "axes[1].set_ylabel('잔차')\n",
    "axes[1].set_title('잔차 플롯')\n",
    "axes[1].grid(True, alpha=0.3)\n",
    "\n",
    "# 3. 잔차 분포\n",
    "axes[2].hist(residuals, bins=30, edgecolor='black', alpha=0.7)\n",
    "axes[2].set_xlabel('잔차')\n",
    "axes[2].set_ylabel('빈도')\n",
    "axes[2].set_title('잔차 분포')\n",
    "axes[2].grid(True, alpha=0.3)\n",
    "\n",
    "plt.tight_layout()\n",
    "plt.show()"
   ]
  },
  {
   "cell_type": "markdown",
   "metadata": {},
   "source": [
    "## 7. 예측 수식"
   ]
  },
  {
   "cell_type": "code",
   "execution_count": null,
   "metadata": {},
   "outputs": [],
   "source": [
    "# 예측 수식 출력\n",
    "print(\"=\"*60)\n",
    "print(\"선형회귀 예측 수식\")\n",
    "print(\"=\"*60)\n",
    "\n",
    "formula = f\"사정율 = {model.intercept_:.6f}\"\n",
    "for feature, coef in zip(X_columns, model.coef_):\n",
    "    if coef >= 0:\n",
    "        formula += f\"\\n       + {coef:.6f} × {feature}\"\n",
    "    else:\n",
    "        formula += f\"\\n       - {abs(coef):.6f} × {feature}\"\n",
    "\n",
    "print(formula)\n",
    "\n",
    "print(\"\\n\" + \"=\"*60)\n",
    "print(\"계수 해석\")\n",
    "print(\"=\"*60)\n",
    "\n",
    "coef_df = pd.DataFrame({\n",
    "    '변수': X_columns,\n",
    "    '계수': model.coef_,\n",
    "    '절대값': np.abs(model.coef_)\n",
    "}).sort_values('절대값', ascending=False)\n",
    "\n",
    "for idx, row in coef_df.iterrows():\n",
    "    if row['계수'] > 0:\n",
    "        print(f\"{row['변수']:10s}: 1단위 증가 시 사정율 {row['계수']:.6f} 증가\")\n",
    "    else:\n",
    "        print(f\"{row['변수']:10s}: 1단위 증가 시 사정율 {abs(row['계수']):.6f} 감소\")"
   ]
  },
  {
   "cell_type": "markdown",
   "metadata": {},
   "source": [
    "## 8. 예측 테스트"
   ]
  },
  {
   "cell_type": "code",
   "execution_count": null,
   "metadata": {},
   "outputs": [],
   "source": [
    "# 사용자 입력 예측 함수\n",
    "def predict_rate(val_100, val_10, val_3):\n",
    "    \"\"\"\n",
    "    100번이동, 10번이동, 3번이동 값으로 사정율 예측\n",
    "    \"\"\"\n",
    "    # 입력값 스케일링\n",
    "    input_data = scaler.transform([[val_100, val_10, val_3]])\n",
    "    \n",
    "    # 예측\n",
    "    prediction = model.predict(input_data)[0]\n",
    "    \n",
    "    return prediction\n",
    "\n",
    "# 테스트 예시\n",
    "print(\"예측 테스트\")\n",
    "print(\"=\"*40)\n",
    "\n",
    "# 평균값으로 테스트\n",
    "mean_100 = X['100번이동' if '100번이동' in X.columns else X_columns[0]].mean()\n",
    "mean_10 = X['10번이동' if '10번이동' in X.columns else X_columns[1]].mean()\n",
    "mean_3 = X['3번이동' if '3번이동' in X.columns else X_columns[2]].mean()\n",
    "\n",
    "print(f\"입력값 (평균):\")\n",
    "print(f\"  100번이동: {mean_100:.4f}\")\n",
    "print(f\"  10번이동: {mean_10:.4f}\")\n",
    "print(f\"  3번이동: {mean_3:.4f}\")\n",
    "\n",
    "prediction = predict_rate(mean_100, mean_10, mean_3)\n",
    "print(f\"\\n예측된 사정율: {prediction:.4f}\")"
   ]
  },
  {
   "cell_type": "code",
   "execution_count": null,
   "metadata": {},
   "outputs": [],
   "source": [
    "# 여러 시나리오 테스트\n",
    "scenarios = [\n",
    "    {\"100번이동\": 0.0, \"10번이동\": 0.0, \"3번이동\": 0.0},\n",
    "    {\"100번이동\": 0.5, \"10번이동\": 0.3, \"3번이동\": 0.1},\n",
    "    {\"100번이동\": -0.5, \"10번이동\": -0.3, \"3번이동\": -0.1},\n",
    "    {\"100번이동\": 1.0, \"10번이동\": 0.5, \"3번이동\": 0.2},\n",
    "    {\"100번이동\": -1.0, \"10번이동\": -0.5, \"3번이동\": -0.2}\n",
    "]\n",
    "\n",
    "print(\"다양한 시나리오 예측\")\n",
    "print(\"=\"*60)\n",
    "print(f\"{'100번이동':>10} {'10번이동':>10} {'3번이동':>10} {'예측 사정율':>12}\")\n",
    "print(\"-\"*60)\n",
    "\n",
    "for scenario in scenarios:\n",
    "    pred = predict_rate(scenario[\"100번이동\"], scenario[\"10번이동\"], scenario[\"3번이동\"])\n",
    "    print(f\"{scenario['100번이동']:10.2f} {scenario['10번이동']:10.2f} {scenario['3번이동']:10.2f} {pred:12.4f}\")"
   ]
  },
  {
   "cell_type": "markdown",
   "metadata": {},
   "source": [
    "## 9. 모델 저장"
   ]
  },
  {
   "cell_type": "code",
   "execution_count": null,
   "metadata": {},
   "outputs": [],
   "source": [
    "import joblib\n",
    "import os\n",
    "\n",
    "# 모델 저장\n",
    "if not os.path.exists('models'):\n",
    "    os.makedirs('models')\n",
    "\n",
    "model_data = {\n",
    "    'model': model,\n",
    "    'scaler': scaler,\n",
    "    'features': list(X_columns),\n",
    "    'target': y_column,\n",
    "    'metrics': {\n",
    "        'train_r2': train_r2,\n",
    "        'test_r2': test_r2,\n",
    "        'rmse': test_rmse,\n",
    "        'mae': test_mae\n",
    "    }\n",
    "}\n",
    "\n",
    "joblib.dump(model_data, 'models/final_model.pkl')\n",
    "print(\"모델 저장 완료: models/final_model.pkl\")\n",
    "\n",
    "# 모델 정보 출력\n",
    "print(\"\\n저장된 모델 정보:\")\n",
    "print(f\"  - 특성: {model_data['features']}\")\n",
    "print(f\"  - 타겟: {model_data['target']}\")\n",
    "print(f\"  - R² Score: {model_data['metrics']['test_r2']:.4f}\")\n",
    "print(f\"  - RMSE: {model_data['metrics']['rmse']:.4f}\")"
   ]
  },
  {
   "cell_type": "markdown",
   "metadata": {},
   "source": [
    "## 10. 결론"
   ]
  },
  {
   "cell_type": "code",
   "execution_count": null,
   "metadata": {},
   "outputs": [],
   "source": [
    "print(\"=\"*60)\n",
    "print(\"분석 결론\")\n",
    "print(\"=\"*60)\n",
    "\n",
    "print(f\"\\n1. 모델 성능:\")\n",
    "print(f\"   - R² Score: {test_r2:.4f}\")\n",
    "if test_r2 > 0.7:\n",
    "    print(f\"   - 평가: 좋은 예측 성능\")\n",
    "elif test_r2 > 0.5:\n",
    "    print(f\"   - 평가: 보통 예측 성능\")\n",
    "else:\n",
    "    print(f\"   - 평가: 개선 필요\")\n",
    "\n",
    "print(f\"\\n2. 주요 영향 변수:\")\n",
    "for idx, row in coef_df.head(3).iterrows():\n",
    "    print(f\"   - {row['변수']}: 계수 {row['계수']:.6f}\")\n",
    "\n",
    "print(f\"\\n3. 예측 오차:\")\n",
    "print(f\"   - 평균 절대 오차: {test_mae:.4f}\")\n",
    "print(f\"   - RMSE: {test_rmse:.4f}\")\n",
    "\n",
    "print(f\"\\n4. 활용 방안:\")\n",
    "print(f\"   - 100번이동, 10번이동, 3번이동 값을 입력하여 사정율 예측\")\n",
    "print(f\"   - 예측 정확도: 약 {test_r2*100:.1f}%\")"
   ]
  }
 ],
 "metadata": {
  "kernelspec": {
   "display_name": "Python 3",
   "language": "python",
   "name": "python3"
  },
  "language_info": {
   "codemirror_mode": {
    "name": "ipython",
    "version": 3
   },
   "file_extension": ".py",
   "mimetype": "text/x-python",
   "name": "python",
   "nbconvert_exporter": "python",
   "pygments_lexer": "ipython3",
   "version": "3.9.0"
  }
 },
 "nbformat": 4,
 "nbformat_minor": 4
}